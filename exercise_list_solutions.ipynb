{
 "cells": [
  {
   "cell_type": "code",
   "execution_count": 1,
   "metadata": {},
   "outputs": [
    {
     "name": "stdout",
     "output_type": "stream",
     "text": [
      "Ahsan\n",
      "Ali\n",
      "Hassan\n",
      "Hasnain\n",
      "Ahmad\n"
     ]
    }
   ],
   "source": [
    "# Storing the names of friends in a list called names\n",
    "names = [\"Ahsan\", \"Ali\", \"Hassan\", \"Hasnain\", \"Ahmad\"]\n",
    "\n",
    "# Printing each person's name by accessing each element in the list without a loop\n",
    "print(names[0])  \n",
    "print(names[1])  \n",
    "print(names[2])  \n",
    "print(names[3])  \n",
    "print(names[4])  "
   ]
  },
  {
   "cell_type": "code",
   "execution_count": 2,
   "metadata": {},
   "outputs": [
    {
     "name": "stdout",
     "output_type": "stream",
     "text": [
      "Hello, Ahsan! Hope you're having a great day!\n",
      "Hello, Ali! Hope you're having a great day!\n",
      "Hello, Hassan! Hope you're having a great day!\n",
      "Hello, Hasnain! Hope you're having a great day!\n",
      "Hello, Ahmad! Hope you're having a great day!\n"
     ]
    }
   ],
   "source": [
    "# Storing the names of friends in a list called names\n",
    "names = [\"Ahsan\", \"Ali\", \"Hassan\", \"Hasnain\", \"Ahmad\"]\n",
    "\n",
    "# Printing greetings for each person without a loop\n",
    "print(f\"Hello, {names[0]}! Hope you're having a great day!\") \n",
    "print(f\"Hello, {names[1]}! Hope you're having a great day!\")  \n",
    "print(f\"Hello, {names[2]}! Hope you're having a great day!\")  \n",
    "print(f\"Hello, {names[3]}! Hope you're having a great day!\")  \n",
    "print(f\"Hello, {names[4]}! Hope you're having a great day!\")  \n",
    "\n"
   ]
  },
  {
   "cell_type": "code",
   "execution_count": 3,
   "metadata": {},
   "outputs": [
    {
     "name": "stdout",
     "output_type": "stream",
     "text": [
      "I would like to own a bike.\n",
      "I would like to own a car.\n",
      "I would like to own a bicycle.\n",
      "I would like to own a plane.\n",
      "I would like to own a boat.\n"
     ]
    }
   ],
   "source": [
    "transportation = [\"bike\", \"car\", \"bicycle\", \"plane\", \"boat\"]\n",
    "\n",
    "print(f\"I would like to own a {transportation[0]}.\")\n",
    "print(f\"I would like to own a {transportation[1]}.\")\n",
    "print(f\"I would like to own a {transportation[2]}.\")\n",
    "print(f\"I would like to own a {transportation[3]}.\")\n",
    "print(f\"I would like to own a {transportation[4]}.\")\n"
   ]
  },
  {
   "cell_type": "code",
   "execution_count": 4,
   "metadata": {},
   "outputs": [
    {
     "name": "stdout",
     "output_type": "stream",
     "text": [
      "Dear Imran Khan, I would like to invite you to dinner.\n",
      "Dear Albert Einstein, I would like to invite you to dinner.\n",
      "Dear Atif Aslam, I would like to invite you to dinner.\n"
     ]
    }
   ],
   "source": [
    "guests = [\"Imran Khan\", \"Albert Einstein\", \"Atif Aslam\"]\n",
    "\n",
    "print(f\"Dear {guests[0]}, I would like to invite you to dinner.\")\n",
    "print(f\"Dear {guests[1]}, I would like to invite you to dinner.\")\n",
    "print(f\"Dear {guests[2]}, I would like to invite you to dinner.\")\n"
   ]
  },
  {
   "cell_type": "code",
   "execution_count": 5,
   "metadata": {},
   "outputs": [
    {
     "name": "stdout",
     "output_type": "stream",
     "text": [
      "Unfortunately, Albert Einstein can't make it to dinner.\n",
      "Dear Imran Khan, I would like to invite you to dinner.\n",
      "Dear Elon Musk, I would like to invite you to dinner.\n",
      "Dear Atif Aslam, I would like to invite you to dinner.\n"
     ]
    }
   ],
   "source": [
    "guests = [\"Imran Khan\", \"Albert Einstein\", \"Atif Aslam\"]\n",
    "print(\"Unfortunately, Albert Einstein can't make it to dinner.\")\n",
    "guests[1] = \"Elon Musk\"\n",
    "\n",
    "print(f\"Dear {guests[0]}, I would like to invite you to dinner.\")\n",
    "print(f\"Dear {guests[1]}, I would like to invite you to dinner.\")\n",
    "print(f\"Dear {guests[2]}, I would like to invite you to dinner.\")\n",
    "\n"
   ]
  },
  {
   "cell_type": "code",
   "execution_count": 3,
   "metadata": {},
   "outputs": [
    {
     "name": "stdout",
     "output_type": "stream",
     "text": [
      "I found a bigger table!\n",
      "Dear Salman Khan, I would like to invite you to dinner.\n",
      "Dear Imran Khan, I would like to invite you to dinner.\n",
      "Dear Amir Khan, I would like to invite you to dinner.\n",
      "Dear Albert Einstein, I would like to invite you to dinner.\n",
      "Dear Atif Aslam I would like to invite you to dinner.\n",
      "Dear Muhammad Ali, I would like to invite you to dinner.\n"
     ]
    }
   ],
   "source": [
    "guests = [\"Imran Khan\", \"Albert Einstein\", \"Atif Aslam\"]\n",
    "print(\"I found a bigger table!\")\n",
    "guests.insert(0, \"Salman Khan\")\n",
    "guests.insert(2, \"Amir Khan\")\n",
    "guests.append(\"Muhammad Ali\")\n",
    "\n",
    "print(f\"Dear {guests[0]}, I would like to invite you to dinner.\")\n",
    "print(f\"Dear {guests[1]}, I would like to invite you to dinner.\")\n",
    "print(f\"Dear {guests[2]}, I would like to invite you to dinner.\")\n",
    "print(f\"Dear {guests[3]}, I would like to invite you to dinner.\")\n",
    "print(f\"Dear {guests[4]} I would like to invite you to dinner.\")\n",
    "print(f\"Dear {guests[5]}, I would like to invite you to dinner.\")"
   ]
  },
  {
   "cell_type": "code",
   "execution_count": 9,
   "metadata": {},
   "outputs": [
    {
     "name": "stdout",
     "output_type": "stream",
     "text": [
      "I can only invite two people for dinner.\n",
      "Sorry Amir Khan, I can't invite you to dinner.\n",
      "Sorry Salman Khan, I can't invite you to dinner.\n",
      "Sorry Atif Aslam, I can't invite you to dinner.\n",
      "Dear Imran Khan, you are still invited to dinner.\n",
      "Dear Albert Einstein, you are still invited to dinner.\n",
      "[]\n"
     ]
    }
   ],
   "source": [
    "guests = [\"Imran Khan\", \"Albert Einstein\", \"Atif Aslam\", \"Salman Khan\", \"Amir Khan\"]\n",
    "print(\"I can only invite two people for dinner.\")\n",
    "\n",
    "# Manually removing guests and printing the messages\n",
    "removed_guest = guests.pop()\n",
    "print(f\"Sorry {removed_guest}, I can't invite you to dinner.\")\n",
    "\n",
    "removed_guest = guests.pop()\n",
    "print(f\"Sorry {removed_guest}, I can't invite you to dinner.\")\n",
    "\n",
    "removed_guest = guests.pop()\n",
    "print(f\"Sorry {removed_guest}, I can't invite you to dinner.\")\n",
    "\n",
    "# Printing invitations for the remaining guests\n",
    "print(f\"Dear {guests[0]}, you are still invited to dinner.\")\n",
    "print(f\"Dear {guests[1]}, you are still invited to dinner.\")\n",
    "\n",
    "del guests[:]\n",
    "\n",
    "print(guests)\n"
   ]
  },
  {
   "cell_type": "code",
   "execution_count": 13,
   "metadata": {},
   "outputs": [
    {
     "name": "stdout",
     "output_type": "stream",
     "text": [
      "['Lahore', 'Pindi', 'Karachi', 'Islamabad', 'Berlin']\n",
      "['Berlin', 'Islamabad', 'Karachi', 'Lahore', 'Pindi']\n",
      "['Lahore', 'Pindi', 'Karachi', 'Islamabad', 'Berlin']\n",
      "['Pindi', 'Lahore', 'Karachi', 'Islamabad', 'Berlin']\n",
      "['Lahore', 'Pindi', 'Karachi', 'Islamabad', 'Berlin']\n",
      "['Berlin', 'Islamabad', 'Karachi', 'Pindi', 'Lahore']\n",
      "['Lahore', 'Pindi', 'Karachi', 'Islamabad', 'Berlin']\n",
      "['Berlin', 'Islamabad', 'Karachi', 'Lahore', 'Pindi']\n",
      "['Pindi', 'Lahore', 'Karachi', 'Islamabad', 'Berlin']\n"
     ]
    }
   ],
   "source": [
    "places = [\"Lahore\", \"Pindi\", \"Karachi\", \"Islamabad\", \"Berlin\"]\n",
    "print(places)\n",
    "print(sorted(places))\n",
    "print(places)\n",
    "print(sorted(places, reverse=True))\n",
    "print(places)\n",
    "places.reverse()\n",
    "print(places)\n",
    "places.reverse()\n",
    "print(places)\n",
    "places.sort()\n",
    "print(places)\n",
    "places.sort(reverse=True)\n",
    "print(places)\n"
   ]
  },
  {
   "cell_type": "code",
   "execution_count": 9,
   "metadata": {},
   "outputs": [
    {
     "name": "stdout",
     "output_type": "stream",
     "text": [
      "['mountains', 'rivers', 'countries', 'cities', 'valleys']\n",
      "['mountains', 'rivers', 'countries', 'cities', 'valleys', 'oceans']\n",
      "2\n",
      "1\n",
      "['mountains', 'rivers', 'countries', 'cities', 'oceans']\n",
      "['cities', 'countries', 'mountains', 'oceans', 'rivers']\n",
      "['rivers', 'oceans', 'mountains', 'countries', 'cities']\n",
      "['rivers', 'oceans', 'mountains', 'countries', 'cities']\n"
     ]
    }
   ],
   "source": [
    "items = [\"mountains\", \"rivers\", \"countries\", \"cities\", \"valleys\"]\n",
    "print(items)\n",
    "items.append(\"oceans\")\n",
    "print(items)\n",
    "print(items.index(\"countries\"))\n",
    "print(items.count(\"cities\"))\n",
    "items.remove(\"valleys\")\n",
    "\n",
    "print(items)\n",
    "items.sort()\n",
    "\n",
    "print(items)\n",
    "items.reverse()\n",
    "\n",
    "print(items)\n",
    "copy_items = items.copy()\n",
    "\n",
    "print(copy_items)\n"
   ]
  },
  {
   "cell_type": "code",
   "execution_count": 76,
   "metadata": {},
   "outputs": [
    {
     "ename": "IndexError",
     "evalue": "list index out of range",
     "output_type": "error",
     "traceback": [
      "\u001b[1;31m---------------------------------------------------------------------------\u001b[0m",
      "\u001b[1;31mIndexError\u001b[0m                                Traceback (most recent call last)",
      "Cell \u001b[1;32mIn[76], line 2\u001b[0m\n\u001b[0;32m      1\u001b[0m items \u001b[38;5;241m=\u001b[39m [\u001b[38;5;124m\"\u001b[39m\u001b[38;5;124mapple\u001b[39m\u001b[38;5;124m\"\u001b[39m, \u001b[38;5;124m\"\u001b[39m\u001b[38;5;124mbanana\u001b[39m\u001b[38;5;124m\"\u001b[39m, \u001b[38;5;124m\"\u001b[39m\u001b[38;5;124morange\u001b[39m\u001b[38;5;124m\"\u001b[39m]\n\u001b[1;32m----> 2\u001b[0m \u001b[38;5;28mprint\u001b[39m(\u001b[43mitems\u001b[49m\u001b[43m[\u001b[49m\u001b[38;5;241;43m9\u001b[39;49m\u001b[43m]\u001b[49m)  \u001b[38;5;66;03m# This will cause an IndexError\u001b[39;00m\n",
      "\u001b[1;31mIndexError\u001b[0m: list index out of range"
     ]
    }
   ],
   "source": [
    "items = [\"apple\", \"banana\", \"orange\"]\n",
    "print(items[9])  # This will cause an IndexError\n"
   ]
  },
  {
   "cell_type": "code",
   "execution_count": 1,
   "metadata": {},
   "outputs": [
    {
     "name": "stdout",
     "output_type": "stream",
     "text": [
      "['apple', 'banana', 'orange', 'dates', 'kela']\n"
     ]
    }
   ],
   "source": [
    "fruits = [\"apple\", \"banana\", \"orange\", \"dates\", \"kela\"]\n",
    "print(fruits)"
   ]
  },
  {
   "cell_type": "code",
   "execution_count": 2,
   "metadata": {},
   "outputs": [
    {
     "name": "stdout",
     "output_type": "stream",
     "text": [
      "['orange', 'dates']\n"
     ]
    }
   ],
   "source": [
    "print(fruits[2: 4])"
   ]
  },
  {
   "cell_type": "code",
   "execution_count": 8,
   "metadata": {},
   "outputs": [
    {
     "name": "stdout",
     "output_type": "stream",
     "text": [
      "['ali', 'adam', 'davis', 'ahmad']\n"
     ]
    }
   ],
   "source": [
    "names = [\"ali\", \"adam\", \"davis\", \"ahmad\"]\n",
    "print(names)"
   ]
  },
  {
   "cell_type": "code",
   "execution_count": 9,
   "metadata": {},
   "outputs": [
    {
     "name": "stdout",
     "output_type": "stream",
     "text": [
      "ali\n",
      "Hussain\n",
      "adam\n",
      "Hussain\n",
      "davis\n",
      "Hussain\n",
      "ahmad\n",
      "Hussain\n",
      "DURRANI\n"
     ]
    }
   ],
   "source": [
    "for name in names:\n",
    "    print(name.lower())\n",
    "    print(\"hussain\".title())\n",
    "\n",
    "print(\"durrani\".upper())"
   ]
  },
  {
   "cell_type": "code",
   "execution_count": 11,
   "metadata": {},
   "outputs": [
    {
     "name": "stdout",
     "output_type": "stream",
     "text": [
      "I want to go out with Ali. \n",
      "I want to go out with Adam. \n",
      "I want to go out with Davis. \n",
      "I want to go out with Ahmad. \n"
     ]
    }
   ],
   "source": [
    "for name in names:\n",
    "    print(f\"I want to go out with {name.title()}. \")"
   ]
  },
  {
   "cell_type": "code",
   "execution_count": 19,
   "metadata": {},
   "outputs": [
    {
     "name": "stdout",
     "output_type": "stream",
     "text": [
      "ALI\n",
      "ADAM\n",
      "DAVIS\n",
      "AHMAD\n"
     ]
    }
   ],
   "source": [
    "for name in names:\n",
    "    print(name.upper())"
   ]
  },
  {
   "cell_type": "code",
   "execution_count": 22,
   "metadata": {},
   "outputs": [
    {
     "name": "stdout",
     "output_type": "stream",
     "text": [
      "ali\n",
      "adam\n",
      "davis\n",
      "ahmad\n"
     ]
    }
   ],
   "source": [
    "for name in names:\n",
    "    print(name.lower())"
   ]
  },
  {
   "cell_type": "code",
   "execution_count": 42,
   "metadata": {},
   "outputs": [
    {
     "data": {
      "text/plain": [
       "[]"
      ]
     },
     "execution_count": 42,
     "metadata": {},
     "output_type": "execute_result"
    }
   ],
   "source": [
    "names"
   ]
  },
  {
   "cell_type": "code",
   "execution_count": 43,
   "metadata": {},
   "outputs": [
    {
     "data": {
      "text/plain": [
       "['ali', 'adam', 'davis', 'ahmad']"
      ]
     },
     "execution_count": 43,
     "metadata": {},
     "output_type": "execute_result"
    }
   ],
   "source": [
    "names = [\"ali\", \"adam\", \"davis\", \"ahmad\"]\n",
    "names"
   ]
  },
  {
   "cell_type": "code",
   "execution_count": 45,
   "metadata": {},
   "outputs": [
    {
     "data": {
      "text/plain": [
       "['ali', 'adam', 'davis', 'ahmad']"
      ]
     },
     "execution_count": 45,
     "metadata": {},
     "output_type": "execute_result"
    }
   ],
   "source": [
    "names"
   ]
  },
  {
   "cell_type": "code",
   "execution_count": 49,
   "metadata": {},
   "outputs": [
    {
     "name": "stdout",
     "output_type": "stream",
     "text": [
      "[0, 2, 4, 6, 8, 10]\n"
     ]
    }
   ],
   "source": [
    "AI = list(range(0, 11, 2))\n",
    "print(AI)"
   ]
  },
  {
   "cell_type": "code",
   "execution_count": 51,
   "metadata": {},
   "outputs": [],
   "source": [
    "numbers = [1, 2, 3, 4, 5, 6]\n",
    "square = []\n",
    "for X in numbers:\n",
    "    X = X**2\n",
    "    square.append(X)"
   ]
  },
  {
   "cell_type": "code",
   "execution_count": 52,
   "metadata": {},
   "outputs": [
    {
     "data": {
      "text/plain": [
       "[1, 4, 9, 16, 25, 36]"
      ]
     },
     "execution_count": 52,
     "metadata": {},
     "output_type": "execute_result"
    }
   ],
   "source": [
    "square"
   ]
  },
  {
   "cell_type": "code",
   "execution_count": 53,
   "metadata": {},
   "outputs": [
    {
     "data": {
      "text/plain": [
       "[1, 2, 3, 4, 5, 6]"
      ]
     },
     "execution_count": 53,
     "metadata": {},
     "output_type": "execute_result"
    }
   ],
   "source": [
    "numbers"
   ]
  },
  {
   "cell_type": "code",
   "execution_count": 54,
   "metadata": {},
   "outputs": [
    {
     "data": {
      "text/plain": [
       "[1, 4, 9, 16, 25, 36]"
      ]
     },
     "execution_count": 54,
     "metadata": {},
     "output_type": "execute_result"
    }
   ],
   "source": [
    "square"
   ]
  },
  {
   "cell_type": "code",
   "execution_count": 55,
   "metadata": {},
   "outputs": [
    {
     "data": {
      "text/plain": [
       "[1, 4, 9, 16, 25, 36]"
      ]
     },
     "execution_count": 55,
     "metadata": {},
     "output_type": "execute_result"
    }
   ],
   "source": [
    "[X**2 for X in numbers]"
   ]
  },
  {
   "cell_type": "code",
   "execution_count": 59,
   "metadata": {},
   "outputs": [
    {
     "name": "stdout",
     "output_type": "stream",
     "text": [
      "1\n",
      "2\n",
      "3\n",
      "4\n",
      "5\n"
     ]
    }
   ],
   "source": [
    "for I in range(5):\n",
    "    print(numbers[I])"
   ]
  },
  {
   "cell_type": "code",
   "execution_count": 72,
   "metadata": {},
   "outputs": [
    {
     "name": "stdout",
     "output_type": "stream",
     "text": [
      "Hello, Ali is invited.\n",
      "Hello, Adam is invited.\n",
      "Hello, Aly is invited.\n"
     ]
    }
   ],
   "source": [
    "FRNDS = [\"ali\", \"adam\", \"aly\"]\n",
    "\n",
    "print(f\"Hello, {FRNDS[0].title()} is invited.\")\n",
    "print(f\"Hello, {FRNDS[1].title()} is invited.\")\n",
    "print(f\"Hello, {FRNDS[2].title()} is invited.\")"
   ]
  },
  {
   "cell_type": "code",
   "execution_count": 75,
   "metadata": {},
   "outputs": [
    {
     "name": "stdout",
     "output_type": "stream",
     "text": [
      "Hello, Ali is invited\n",
      "Hello, Adam is invited\n",
      "Hello, Aly is invited\n"
     ]
    }
   ],
   "source": [
    "FRNDS = [\"ali\", \"adam\", \"aly\"]\n",
    "for FRND in FRNDS:\n",
    "    print(f\"Hello, {FRND.title()} is invited\")"
   ]
  },
  {
   "cell_type": "code",
   "execution_count": 79,
   "metadata": {},
   "outputs": [
    {
     "data": {
      "text/plain": [
       "0"
      ]
     },
     "execution_count": 79,
     "metadata": {},
     "output_type": "execute_result"
    }
   ],
   "source": [
    "FRNDS.index(\"ali\")"
   ]
  },
  {
   "cell_type": "code",
   "execution_count": null,
   "metadata": {},
   "outputs": [],
   "source": []
  }
 ],
 "metadata": {
  "kernelspec": {
   "display_name": "Python 3",
   "language": "python",
   "name": "python3"
  },
  "language_info": {
   "codemirror_mode": {
    "name": "ipython",
    "version": 3
   },
   "file_extension": ".py",
   "mimetype": "text/x-python",
   "name": "python",
   "nbconvert_exporter": "python",
   "pygments_lexer": "ipython3",
   "version": "3.12.5"
  }
 },
 "nbformat": 4,
 "nbformat_minor": 2
}
