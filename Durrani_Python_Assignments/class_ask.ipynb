{
 "cells": [
  {
   "cell_type": "code",
   "execution_count": 1,
   "metadata": {},
   "outputs": [
    {
     "name": "stdout",
     "output_type": "stream",
     "text": [
      "1st number is 12\n",
      "2nd number is 43\n",
      "Sum is 55\n"
     ]
    }
   ],
   "source": [
    "#task 1\n",
    "a = int(input(\"The first number is:   \"))\n",
    "b = int(input(\"The second number is:   \"))\n",
    "\n",
    "print(f\"1st number is {a}\")\n",
    "print(f\"2nd number is {b}\")\n",
    "print(f\"Sum is {a + b}\")"
   ]
  },
  {
   "cell_type": "code",
   "execution_count": 3,
   "metadata": {},
   "outputs": [
    {
     "name": "stdout",
     "output_type": "stream",
     "text": [
      "What's your favorite animal?    \n",
      "USER: It's LION.\n",
      "My favorite animal is also Lion.\n"
     ]
    }
   ],
   "source": [
    "#task 2\n",
    "animal = str(input(\"What is your favorite animal?    \"))\n",
    "\n",
    "print(\"What's your favorite animal?    \") \n",
    "print(f\"USER: It's {animal.upper()}.\")\n",
    "print(f\"My favorite animal is also {animal.title()}.\")"
   ]
  },
  {
   "cell_type": "code",
   "execution_count": 24,
   "metadata": {},
   "outputs": [
    {
     "name": "stdout",
     "output_type": "stream",
     "text": [
      "Temperature is: 32\n",
      "Temperature: 32 F = 0.0 C\n"
     ]
    }
   ],
   "source": [
    "#task 3\n",
    "fahrenheit_temperature = int(input(\"Enter temperature in Fahrenheit:     \"))\n",
    "\n",
    "celsius_temperature = (fahrenheit_temperature - 32) * 5.0 / 9.0\n",
    "print(f\"Temperature is: {fahrenheit_temperature}\")\n",
    "print(f\"Temperature: {fahrenheit_temperature} F = {celsius_temperature} C\")\n"
   ]
  },
  {
   "cell_type": "code",
   "execution_count": 38,
   "metadata": {},
   "outputs": [
    {
     "name": "stdout",
     "output_type": "stream",
     "text": [
      "The length of side a is 12\n",
      "The length of side b is 13\n",
      "The length of side c is 42\n",
      "The perimeter of the triangle is 67\n"
     ]
    }
   ],
   "source": [
    "#task 4\n",
    "a_triangle = int(input(\"Enter the length of side a:   \"))\n",
    "b_triangle = int(input(\"Enter the length of side b:   \"))\n",
    "c_triangle = int(input(\"Enter the length of side c:   \"))\n",
    "\n",
    "print(f\"The length of side a is {a_triangle}\")\n",
    "print(f\"The length of side b is {b_triangle}\")\n",
    "print(f\"The length of side c is {c_triangle}\")  \n",
    "\n",
    "print(f\"The perimeter of the triangle is {a_triangle + b_triangle + c_triangle}\")"
   ]
  },
  {
   "cell_type": "code",
   "execution_count": 26,
   "metadata": {},
   "outputs": [
    {
     "name": "stdout",
     "output_type": "stream",
     "text": [
      "Square of 9 is 81\n"
     ]
    }
   ],
   "source": [
    "#task 5\n",
    "number = int(input(\"Enter a number:   \"))\n",
    "\n",
    "print(f\"Square of {number} is {number * number}\")"
   ]
  },
  {
   "cell_type": "code",
   "execution_count": 28,
   "metadata": {},
   "outputs": [
    {
     "name": "stdout",
     "output_type": "stream",
     "text": [
      "[1, 2, 4, 5]\n"
     ]
    }
   ],
   "source": [
    "#task 6\n",
    "numbers = [1, 2, 3, 4, 5] \n",
    "numbers.remove(3)\n",
    "print(numbers)"
   ]
  },
  {
   "cell_type": "code",
   "execution_count": 29,
   "metadata": {},
   "outputs": [
    {
     "name": "stdout",
     "output_type": "stream",
     "text": [
      "[1, 2, 3, 4, 5, 6]\n"
     ]
    }
   ],
   "source": [
    "#task 7\n",
    "list1 = [1, 2, 3]\n",
    "list2 = [4, 5, 6]\n",
    "list1.extend(list2)\n",
    "print(list1)"
   ]
  },
  {
   "cell_type": "code",
   "execution_count": 35,
   "metadata": {},
   "outputs": [
    {
     "name": "stdout",
     "output_type": "stream",
     "text": [
      "[10, 20, 30]\n",
      "40\n"
     ]
    }
   ],
   "source": [
    "#task 8\n",
    "items = [10, 20, 30, 40]\n",
    "removed_item = items.pop()\n",
    "print(items)    \n",
    "print(removed_item)   \n"
   ]
  },
  {
   "cell_type": "code",
   "execution_count": 36,
   "metadata": {},
   "outputs": [
    {
     "data": {
      "text/plain": [
       "2"
      ]
     },
     "execution_count": 36,
     "metadata": {},
     "output_type": "execute_result"
    }
   ],
   "source": [
    "#task 9\n",
    "colors = [\"red\", \"blue\", \"green\", \"yellow\"]\n",
    "colors.index(\"green\")\n"
   ]
  },
  {
   "cell_type": "code",
   "execution_count": 37,
   "metadata": {},
   "outputs": [
    {
     "name": "stdout",
     "output_type": "stream",
     "text": [
      "40\n",
      "c\n"
     ]
    }
   ],
   "source": [
    "#Task 10\n",
    "def get_last_element(lst):\n",
    "    print(lst[-1])\n",
    "\n",
    "get_last_element([10, 20, 30, 40])  \n",
    "get_last_element(['a', 'b', 'c'])   \n"
   ]
  },
  {
   "cell_type": "code",
   "execution_count": 44,
   "metadata": {},
   "outputs": [
    {
     "name": "stdout",
     "output_type": "stream",
     "text": [
      "Here's the list: ['12', '43', '5', '67', '69']\n"
     ]
    }
   ],
   "source": [
    "#Task 11..............................................\n",
    "#.....................................................\n",
    "def get_list_from_user():\n",
    "    values = []\n",
    "    while True:\n",
    "        value = input(\"Enter a value: \")\n",
    "        if value == \"\":\n",
    "            break\n",
    "        values.append(value)\n",
    "    print(f\"Here's the list: {values}\")\n",
    "\n",
    "get_list_from_user()\n"
   ]
  }
 ],
 "metadata": {
  "kernelspec": {
   "display_name": "Python 3",
   "language": "python",
   "name": "python3"
  },
  "language_info": {
   "codemirror_mode": {
    "name": "ipython",
    "version": 3
   },
   "file_extension": ".py",
   "mimetype": "text/x-python",
   "name": "python",
   "nbconvert_exporter": "python",
   "pygments_lexer": "ipython3",
   "version": "3.12.5"
  }
 },
 "nbformat": 4,
 "nbformat_minor": 2
}
